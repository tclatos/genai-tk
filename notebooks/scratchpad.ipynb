{
 "cells": [
  {
   "cell_type": "code",
   "execution_count": null,
   "id": "393e3b61",
   "metadata": {},
   "outputs": [],
   "source": [
    "# A default setup cell.\n",
    "# It imports environment variables, define 'devtools.debug\" as a buildins, set PYTHONPATH, and code auto-reload\n",
    "# Copy it in other Notebooks\n",
    "\n",
    "\n",
    "%load_ext autoreload\n",
    "%autoreload 2\n",
    "%reset -f\n",
    "\n",
    "\n",
    "import sys\n",
    "\n",
    "from devtools import debug  # noqa: F401  # noqa: F811\n",
    "from dotenv import load_dotenv\n",
    "from rich import print  # noqa: F401\n",
    "\n",
    "assert load_dotenv(verbose=True)\n",
    "\n",
    "sys.path.append(\".\")"
   ]
  },
  {
   "cell_type": "code",
   "execution_count": null,
   "id": "124c7c0a",
   "metadata": {},
   "outputs": [],
   "source": [
    "# quick test\n",
    "from genai_tk.utils.config_mngr import global_config, global_config_reload\n",
    "\n",
    "global_config_reload()\n",
    "print(global_config().get(\"llm.list\"))\n",
    "print(global_config().get(\"paths.config\"))"
   ]
  },
  {
   "cell_type": "code",
   "execution_count": null,
   "id": "b1f6aab5",
   "metadata": {},
   "outputs": [],
   "source": []
  }
 ],
 "metadata": {
  "kernelspec": {
   "display_name": "genai-bp (3.12.3)",
   "language": "python",
   "name": "python3"
  },
  "language_info": {
   "codemirror_mode": {
    "name": "ipython",
    "version": 3
   },
   "file_extension": ".py",
   "mimetype": "text/x-python",
   "name": "python",
   "nbconvert_exporter": "python",
   "pygments_lexer": "ipython3",
   "version": "3.12.3"
  }
 },
 "nbformat": 4,
 "nbformat_minor": 5
}
